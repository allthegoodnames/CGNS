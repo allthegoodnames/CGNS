{
  "nbformat": 4,
  "nbformat_minor": 0,
  "metadata": {
    "colab": {
      "provenance": []
    },
    "kernelspec": {
      "name": "python3",
      "display_name": "Python 3"
    },
    "language_info": {
      "name": "python"
    }
  },
  "cells": [
    {
      "cell_type": "code",
      "execution_count": 1,
      "metadata": {
        "colab": {
          "base_uri": "https://localhost:8080/"
        },
        "id": "_fz5dVF05JM_",
        "outputId": "9a5e1210-dfec-44a0-dd89-68b4b3e20ae6"
      },
      "outputs": [
        {
          "output_type": "stream",
          "name": "stdout",
          "text": [
            "Collecting pycryptodome\n",
            "  Downloading pycryptodome-3.22.0-cp37-abi3-manylinux_2_17_x86_64.manylinux2014_x86_64.whl.metadata (3.4 kB)\n",
            "Downloading pycryptodome-3.22.0-cp37-abi3-manylinux_2_17_x86_64.manylinux2014_x86_64.whl (2.3 MB)\n",
            "\u001b[2K   \u001b[90m━━━━━━━━━━━━━━━━━━━━━━━━━━━━━━━━━━━━━━━━\u001b[0m \u001b[32m2.3/2.3 MB\u001b[0m \u001b[31m19.8 MB/s\u001b[0m eta \u001b[36m0:00:00\u001b[0m\n",
            "\u001b[?25hInstalling collected packages: pycryptodome\n",
            "Successfully installed pycryptodome-3.22.0\n"
          ]
        }
      ],
      "source": [
        "pip install pycryptodome"
      ]
    },
    {
      "cell_type": "code",
      "source": [
        "from Crypto.Cipher import AES\n",
        "from Crypto.Util.Padding import pad, unpad\n",
        "from Crypto.Random import get_random_bytes\n",
        "\n",
        "# AES block size (in bytes)\n",
        "BLOCK_SIZE = 16\n",
        "\n",
        "def aes_encrypt(plaintext, key):\n",
        "    # Ensure key is 16, 24, or 32 bytes long\n",
        "    if len(key) not in [16, 24, 32]:\n",
        "        raise ValueError(\"Key must be either 16, 24, or 32 bytes long.\")\n",
        "\n",
        "    # Generate a random Initialization Vector (IV)\n",
        "    iv = get_random_bytes(BLOCK_SIZE)\n",
        "\n",
        "    # Create AES cipher object\n",
        "    cipher = AES.new(key, AES.MODE_CBC, iv)\n",
        "\n",
        "    # Pad plaintext to be multiple of block size\n",
        "    padded_text = pad(plaintext.encode(), BLOCK_SIZE)\n",
        "\n",
        "    # Encrypt\n",
        "    ciphertext = cipher.encrypt(padded_text)\n",
        "\n",
        "    # Return IV + ciphertext (both needed for decryption)\n",
        "    return iv + ciphertext\n",
        "\n",
        "def aes_decrypt(ciphertext, key):\n",
        "    if len(key) not in [16, 24, 32]:\n",
        "        raise ValueError(\"Key must be either 16, 24, or 32 bytes long.\")\n",
        "\n",
        "    # Extract IV and ciphertext\n",
        "    iv = ciphertext[:BLOCK_SIZE]\n",
        "    actual_ciphertext = ciphertext[BLOCK_SIZE:]\n",
        "\n",
        "    # Create AES cipher object\n",
        "    cipher = AES.new(key, AES.MODE_CBC, iv)\n",
        "\n",
        "    # Decrypt and unpad\n",
        "    decrypted_padded_text = cipher.decrypt(actual_ciphertext)\n",
        "    decrypted_text = unpad(decrypted_padded_text, BLOCK_SIZE)\n",
        "\n",
        "    return decrypted_text.decode()\n",
        "\n",
        "# Example usage\n",
        "if __name__ == \"__main__\":\n",
        "    key = get_random_bytes(16)  # AES-128 (16 bytes key)\n",
        "    plaintext = \"This is a secret message!\"\n",
        "\n",
        "    print(f\"Original Text: {plaintext}\")\n",
        "    print(f\"Key (hex): {key.hex()}\")\n",
        "\n",
        "    encrypted = aes_encrypt(plaintext, key)\n",
        "    print(f\"Encrypted (hex): {encrypted.hex()}\")\n",
        "\n",
        "    decrypted = aes_decrypt(encrypted, key)\n",
        "    print(f\"Decrypted Text: {decrypted}\")"
      ],
      "metadata": {
        "colab": {
          "base_uri": "https://localhost:8080/"
        },
        "id": "evOY2VPC5aJ7",
        "outputId": "28fb2889-99ed-4cec-dc92-4b73b56ae9a5"
      },
      "execution_count": 2,
      "outputs": [
        {
          "output_type": "stream",
          "name": "stdout",
          "text": [
            "Original Text: This is a secret message!\n",
            "Key (hex): c5e98d731581249055965f1b76ab3208\n",
            "Encrypted (hex): 31df1939754c9afb1a5456cbeb2a20ac2b2cf1eb6e7d6a25a15f20666f445f595f6a8eda76fcd5deb72df30b60fb8ce5\n",
            "Decrypted Text: This is a secret message!\n"
          ]
        }
      ]
    }
  ]
}