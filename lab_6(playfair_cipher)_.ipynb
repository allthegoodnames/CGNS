{
  "nbformat": 4,
  "nbformat_minor": 0,
  "metadata": {
    "colab": {
      "provenance": []
    },
    "kernelspec": {
      "name": "python3",
      "display_name": "Python 3"
    },
    "language_info": {
      "name": "python"
    }
  },
  "cells": [
    {
      "cell_type": "code",
      "execution_count": 1,
      "metadata": {
        "colab": {
          "base_uri": "https://localhost:8080/"
        },
        "id": "U1UaB_aH0MFq",
        "outputId": "29e3159e-892f-4f01-ef7d-f540f440a82a"
      },
      "outputs": [
        {
          "output_type": "stream",
          "name": "stdout",
          "text": [
            "Original Text : INSTRUMENTS\n",
            "Encrypted Text: GATLMZCLRQXA\n",
            "Decrypted Text: INSTRUMENTSX\n"
          ]
        }
      ],
      "source": [
        "# Playfair Cipher Implementation in Python\n",
        "\n",
        "def generate_key_matrix(key):\n",
        "    key = key.upper().replace('J', 'I')\n",
        "    seen = set()\n",
        "    matrix = []\n",
        "\n",
        "    for char in key:\n",
        "        if char not in seen and char.isalpha():\n",
        "            seen.add(char)\n",
        "            matrix.append(char)\n",
        "\n",
        "    for char in \"ABCDEFGHIKLMNOPQRSTUVWXYZ\":\n",
        "        if char not in seen:\n",
        "            seen.add(char)\n",
        "            matrix.append(char)\n",
        "\n",
        "    # Create 5x5 matrix\n",
        "    key_matrix = [matrix[i*5:(i+1)*5] for i in range(5)]\n",
        "    return key_matrix\n",
        "\n",
        "def preprocess_text(text, for_encryption=True):\n",
        "    text = text.upper().replace('J', 'I')\n",
        "    text = ''.join(filter(str.isalpha, text))  # Remove non-letters\n",
        "    result = ''\n",
        "    i = 0\n",
        "    while i < len(text):\n",
        "        result += text[i]\n",
        "        if (i + 1) < len(text):\n",
        "            if text[i] == text[i+1]:\n",
        "                result += 'X'  # Insert 'X' between repeated letters\n",
        "            else:\n",
        "                result += text[i+1]\n",
        "                i += 1\n",
        "        else:\n",
        "            result += 'X'  # Padding if odd number of characters\n",
        "        i += 1\n",
        "    return result\n",
        "\n",
        "def find_position(matrix, char):\n",
        "    for row_idx, row in enumerate(matrix):\n",
        "        if char in row:\n",
        "            return row_idx, row.index(char)\n",
        "    return None\n",
        "\n",
        "def encrypt_pair(matrix, a, b):\n",
        "    row1, col1 = find_position(matrix, a)\n",
        "    row2, col2 = find_position(matrix, b)\n",
        "\n",
        "    if row1 == row2:\n",
        "        return matrix[row1][(col1 + 1) % 5] + matrix[row2][(col2 + 1) % 5]\n",
        "    elif col1 == col2:\n",
        "        return matrix[(row1 + 1) % 5][col1] + matrix[(row2 + 1) % 5][col2]\n",
        "    else:\n",
        "        return matrix[row1][col2] + matrix[row2][col1]\n",
        "\n",
        "def decrypt_pair(matrix, a, b):\n",
        "    row1, col1 = find_position(matrix, a)\n",
        "    row2, col2 = find_position(matrix, b)\n",
        "\n",
        "    if row1 == row2:\n",
        "        return matrix[row1][(col1 - 1) % 5] + matrix[row2][(col2 - 1) % 5]\n",
        "    elif col1 == col2:\n",
        "        return matrix[(row1 - 1) % 5][col1] + matrix[(row2 - 1) % 5][col2]\n",
        "    else:\n",
        "        return matrix[row1][col2] + matrix[row2][col1]\n",
        "\n",
        "def playfair_encrypt(text, key):\n",
        "    matrix = generate_key_matrix(key)\n",
        "    prepared_text = preprocess_text(text)\n",
        "    ciphertext = ''\n",
        "    for i in range(0, len(prepared_text), 2):\n",
        "        ciphertext += encrypt_pair(matrix, prepared_text[i], prepared_text[i+1])\n",
        "    return ciphertext\n",
        "\n",
        "def playfair_decrypt(ciphertext, key):\n",
        "    matrix = generate_key_matrix(key)\n",
        "    plaintext = ''\n",
        "    for i in range(0, len(ciphertext), 2):\n",
        "        plaintext += decrypt_pair(matrix, ciphertext[i], ciphertext[i+1])\n",
        "    return plaintext\n",
        "\n",
        "# Example usage\n",
        "if __name__ == \"__main__\":\n",
        "    key = \"MONARCHY\"\n",
        "    text = \"INSTRUMENTS\"\n",
        "\n",
        "    encrypted = playfair_encrypt(text, key)\n",
        "    decrypted = playfair_decrypt(encrypted, key)\n",
        "\n",
        "    print(f\"Original Text : {text}\")\n",
        "    print(f\"Encrypted Text: {encrypted}\")\n",
        "    print(f\"Decrypted Text: {decrypted}\")\n"
      ]
    }
  ]
}