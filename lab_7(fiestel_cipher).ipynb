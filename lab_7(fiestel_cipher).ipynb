{
  "nbformat": 4,
  "nbformat_minor": 0,
  "metadata": {
    "colab": {
      "provenance": []
    },
    "kernelspec": {
      "name": "python3",
      "display_name": "Python 3"
    },
    "language_info": {
      "name": "python"
    }
  },
  "cells": [
    {
      "cell_type": "code",
      "execution_count": 2,
      "metadata": {
        "colab": {
          "base_uri": "https://localhost:8080/"
        },
        "id": "wHDaoc7I1kLc",
        "outputId": "f7a16e20-544c-448f-b1a2-49bbce8e3559"
      },
      "outputs": [
        {
          "output_type": "stream",
          "name": "stdout",
          "text": [
            "Plaintext (binary)   : 0100100001000101010011000100110001001111001100010011001000110011\n",
            "Ciphertext (binary)  : 0000001000000101111000010111111000000011011001000011111101111011\n",
            "Decrypted (binary)   : 0100100001000101010011000100110001001111001100010011001000110011\n",
            "Decrypted (text)     : HELLO123\n"
          ]
        }
      ],
      "source": [
        "def xor_strings(s1, s2):\n",
        "    # Repeat the key if it's shorter than the block\n",
        "    s2 = (s2 * (len(s1) // len(s2) + 1))[:len(s1)]\n",
        "    return ''.join(str(int(a) ^ int(b)) for a, b in zip(s1, s2))\n",
        "\n",
        "def feistel_round(left, right, subkey):\n",
        "    f_output = xor_strings(right, subkey)\n",
        "    new_left = right\n",
        "    new_right = xor_strings(left, f_output)\n",
        "    return new_left, new_right\n",
        "\n",
        "def feistel_encrypt(plain_text, rounds, keys):\n",
        "    left = plain_text[:len(plain_text)//2]\n",
        "    right = plain_text[len(plain_text)//2:]\n",
        "    for i in range(rounds):\n",
        "        left, right = feistel_round(left, right, keys[i])\n",
        "    return left + right\n",
        "\n",
        "def feistel_decrypt(cipher_text, rounds, keys):\n",
        "    left = cipher_text[:len(cipher_text)//2]\n",
        "    right = cipher_text[len(cipher_text)//2:]\n",
        "    for i in range(rounds-1, -1, -1):\n",
        "        right, left = feistel_round(right, left, keys[i])\n",
        "    return left + right\n",
        "\n",
        "def string_to_binary(text):\n",
        "    return ''.join(format(ord(c), '08b') for c in text)\n",
        "\n",
        "def binary_to_string(binary_text):\n",
        "    chars = [binary_text[i:i+8] for i in range(0, len(binary_text), 8)]\n",
        "    return ''.join(chr(int(char, 2)) for char in chars)\n",
        "\n",
        "# Example usage\n",
        "if __name__ == \"__main__\":\n",
        "    plaintext = \"HELLO123\"\n",
        "    rounds = 4\n",
        "    key_size = 36  # Half of 72 (9 chars * 8 bits = 72 bits)\n",
        "\n",
        "    # Generate 4 random-ish keys of appropriate size\n",
        "    keys = [\n",
        "        \"011011\" * 6,\n",
        "        \"110101\" * 6,\n",
        "        \"100110\" * 6,\n",
        "        \"111100\" * 6\n",
        "    ]\n",
        "\n",
        "    binary_plaintext = string_to_binary(plaintext)\n",
        "    if len(binary_plaintext) % 2 != 0:\n",
        "        binary_plaintext += '0'\n",
        "\n",
        "    print(f\"Plaintext (binary)   : {binary_plaintext}\")\n",
        "\n",
        "    cipher_binary = feistel_encrypt(binary_plaintext, rounds, keys)\n",
        "    print(f\"Ciphertext (binary)  : {cipher_binary}\")\n",
        "\n",
        "    decrypted_binary = feistel_decrypt(cipher_binary, rounds, keys)\n",
        "    print(f\"Decrypted (binary)   : {decrypted_binary}\")\n",
        "\n",
        "    decrypted_text = binary_to_string(decrypted_binary)\n",
        "    print(f\"Decrypted (text)     : {decrypted_text}\")"
      ]
    }
  ]
}